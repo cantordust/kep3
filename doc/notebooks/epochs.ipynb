{
 "cells": [
  {
   "cell_type": "markdown",
   "metadata": {},
   "source": [
    "# Epochs and Julian Dates\n",
    "\n",
    "The representation of an epoch, that is of a specific point in time, be it in the future or in the past, can be rather confusing. In `pykep` we opted to offer the dedicated class {class}`pykep.epoch` that takes care to offer a simple interface and, under the hoods, interfaces seamlessly both to the c++ `std::chrono`  library and the python {class}`numpy.datetime` module. Find it in our API documentation under the section \"[Relatated to epochs](../epoch.rst)\"\n",
    "\n",
    "Let us briefly show its interface."
   ]
  },
  {
   "cell_type": "markdown",
   "metadata": {},
   "source": [
    "An `epoch` may be created in one of four ways: \n",
    "\n",
    "1. constructing one from a Julian Date (i.e. a float representing the number of days passed from some historical date).\n",
    "2. constructing one from a datetime object.\n",
    "3. constructing directly from an ISO 8601 string.\n",
    "4. requesting the current date from the {func}`pykep.utc_now` function.\n",
    "\n",
    ":::{note}\n",
    "**MJD2000** is the Default Julian Date. When not specified othewise by the user, in the context of epoch arithmetics a float will always be considered by `pykep` as a Modified Julian Date 2000, i.e. as the number of days from `2000-01-01T00:00:00.000000`, or as days if it represents a duration.\n",
    "\n",
    ":::{note}\n",
    "The date in `pykep` **does** account for leap seconds. If the user wishes to use the exact ISO 8601 representation of some epoch, also including leap seconds, he will have to account for the offset himself. As of of 2023 this may account to maximum 28 seconds. [More info](https://en.wikipedia.org/wiki/Leap_second) on leap seconds."
   ]
  },
  {
   "cell_type": "code",
   "execution_count": 1,
   "metadata": {},
   "outputs": [],
   "source": [
    "import pykep as pk\n",
    "import datetime"
   ]
  },
  {
   "cell_type": "markdown",
   "metadata": {},
   "source": [
    "## Julian dates"
   ]
  },
  {
   "cell_type": "code",
   "execution_count": 2,
   "metadata": {},
   "outputs": [],
   "source": [
    "ep = pk.epoch(0.)"
   ]
  },
  {
   "cell_type": "markdown",
   "metadata": {},
   "source": [
    "we can print this on screen:"
   ]
  },
  {
   "cell_type": "code",
   "execution_count": 3,
   "metadata": {},
   "outputs": [
    {
     "name": "stdout",
     "output_type": "stream",
     "text": [
      "2000-01-01T00:00:00.000000\n"
     ]
    }
   ],
   "source": [
    "print(ep)"
   ]
  },
  {
   "cell_type": "markdown",
   "metadata": {},
   "source": [
    ".. or instantiate an epoch by explicitly mentioning the Julian Date type:"
   ]
  },
  {
   "cell_type": "code",
   "execution_count": 4,
   "metadata": {},
   "outputs": [
    {
     "name": "stdout",
     "output_type": "stream",
     "text": [
      "2000-01-01T00:00:00.000000\n"
     ]
    }
   ],
   "source": [
    "ep = pk.epoch(0., pk.epoch.julian_type.MJD2000)\n",
    "print(ep)"
   ]
  },
  {
   "cell_type": "markdown",
   "metadata": {},
   "source": [
    ".. or use a different Julian Date than the default MJD2000:"
   ]
  },
  {
   "cell_type": "code",
   "execution_count": 5,
   "metadata": {},
   "outputs": [
    {
     "name": "stdout",
     "output_type": "stream",
     "text": [
      "2025-01-01T00:00:00.000000\n"
     ]
    }
   ],
   "source": [
    "ep = pk.epoch(2460676.5000000, pk.epoch.julian_type.JD)\n",
    "print(ep)"
   ]
  },
  {
   "cell_type": "markdown",
   "metadata": {},
   "source": [
    ":::{note}\n",
    "`pykep` supports the following Julian Dates MJD2000 (the default), MJD and JD. (see {class}`pykep.epoch.julian_type`)"
   ]
  },
  {
   "cell_type": "markdown",
   "metadata": {},
   "source": [
    "We may also request an epoch corresponding to the current UTC time:"
   ]
  },
  {
   "cell_type": "code",
   "execution_count": 6,
   "metadata": {},
   "outputs": [
    {
     "name": "stdout",
     "output_type": "stream",
     "text": [
      "2023-10-16T13:24:28.532877\n"
     ]
    }
   ],
   "source": [
    "ep = pk.utc_now()\n",
    "print(ep)"
   ]
  },
  {
   "cell_type": "markdown",
   "metadata": {},
   "source": [
    "or construct it from an iso string:\n"
   ]
  },
  {
   "cell_type": "code",
   "execution_count": 7,
   "metadata": {},
   "outputs": [
    {
     "name": "stdout",
     "output_type": "stream",
     "text": [
      "2023-10-28T00:01:02.120000\n"
     ]
    }
   ],
   "source": [
    "ep = pk.epoch(\"2023-10-28T00:01:02.12\")\n",
    "print(ep)\n"
   ]
  },
  {
   "cell_type": "markdown",
   "metadata": {},
   "source": [
    "## Datetime interoperability"
   ]
  },
  {
   "cell_type": "markdown",
   "metadata": {},
   "source": [
    "If we have a datetime object from python builtin datetime library we can construct an epoch with it:"
   ]
  },
  {
   "cell_type": "code",
   "execution_count": 8,
   "metadata": {},
   "outputs": [
    {
     "name": "stdout",
     "output_type": "stream",
     "text": [
      "2033-11-12T12:22:12.014532\n"
     ]
    }
   ],
   "source": [
    "dt = datetime.datetime(year=2033, month=11, day=12, hour=12, minute=22, second=12, microsecond=14532)\n",
    "ep = pk.epoch(dt)\n",
    "print(ep)"
   ]
  },
  {
   "cell_type": "markdown",
   "metadata": {},
   "source": [
    "and convert it, when needed, to a julian representation:"
   ]
  },
  {
   "cell_type": "code",
   "execution_count": 9,
   "metadata": {},
   "outputs": [
    {
     "name": "stdout",
     "output_type": "stream",
     "text": [
      "63913.51541683486\n"
     ]
    }
   ],
   "source": [
    "print(ep.mjd)"
   ]
  },
  {
   "cell_type": "markdown",
   "metadata": {},
   "source": [
    "## The epoch math\n",
    "Additions and subtractions are allowed between epochs and floats or `datetime.timedelta`. \n",
    "When using floats days are always assumed."
   ]
  },
  {
   "cell_type": "code",
   "execution_count": 10,
   "metadata": {},
   "outputs": [
    {
     "name": "stdout",
     "output_type": "stream",
     "text": [
      "2000-01-22T05:38:54.456000\n"
     ]
    }
   ],
   "source": [
    "ep = pk.epoch(0)\n",
    "ep = ep + 21.2353525 # This will be interpreted as days\n",
    "print(ep)"
   ]
  },
  {
   "cell_type": "code",
   "execution_count": 11,
   "metadata": {},
   "outputs": [
    {
     "name": "stdout",
     "output_type": "stream",
     "text": [
      "2000-01-22T05:38:54.456000\n"
     ]
    }
   ],
   "source": [
    "ep = pk.epoch(0)\n",
    "ep = ep + datetime.timedelta(hours = 5, seconds=54, days=21, minutes=38, microseconds=456000) # This will be interpreted as days\n",
    "print(ep)"
   ]
  },
  {
   "cell_type": "markdown",
   "metadata": {},
   "source": [
    "Some basic comparison operators are also allowed and may turn handy!"
   ]
  },
  {
   "cell_type": "code",
   "execution_count": 12,
   "metadata": {},
   "outputs": [
    {
     "name": "stdout",
     "output_type": "stream",
     "text": [
      "True\n",
      "True\n"
     ]
    }
   ],
   "source": [
    "print(ep < ep + 4)\n",
    "print(ep == ep + datetime.timedelta(days=32) - 32)"
   ]
  },
  {
   "cell_type": "code",
   "execution_count": 57,
   "metadata": {},
   "outputs": [],
   "source": [
    "from sgp4.api import Satrec\n",
    "from sgp4 import exporter\n",
    "import pykep as pk\n",
    "import numpy as np\n",
    "\n",
    "class tle:\n",
    "    \"\"\"__init__(line1, line2)\n",
    "\n",
    "    This User Defined Planet (UDPLA) represents a satellite orbiting the Earth and defined in the TLE format\n",
    "    and propagated using the SGP4 propagator.\n",
    "\n",
    "    .. note::\n",
    "       The resulting ephemerides will be returned in SI units and in the True Equator Mean Equinox (TEME) reference frame\n",
    "\n",
    "    \"\"\"\n",
    "    def __init__(self, line1, line2):\n",
    "        import pykep as pk\n",
    "        self.satellite = Satrec.twoline2rv(line1, line2)\n",
    "        self.e = 0\n",
    "        self.ref_epoch = pk.epoch(self.satellite.jdsatepoch + self.satellite.jdsatepochF, pk.epoch.julian_type.JD)\n",
    "    def eph(self, ep):\n",
    "        jd = ep.jd\n",
    "        jd_i = int(jd)\n",
    "        jd_fr = jd-jd_i\n",
    "        self.e, r, v = self.satellite.sgp4(jd_i, jd_fr)\n",
    "        return [[it*1000 for it in r], [it*1000 for it in v]]\n",
    "    def eph_v(self, eps):\n",
    "        jds = [ep.jd for ep in eps]\n",
    "        jd_is = [int(item) for item in jds]\n",
    "        jd_frs = [a-b for a,b in zip(jds,jd_is)]\n",
    "        self.e, r, v = self.satellite.sgp4_array(np.array(jd_is), np.array(jd_frs))\n",
    "        rv = np.hstack((r,v))\n",
    "        return [rv[:,:3], rv[:,3:]]\n",
    "    def get_name(self):\n",
    "        return self.satellite.satnum_str + \" - SGP4\"\n",
    "    def get_extra_info(self):\n",
    "        line1, line2 = exporter.export_tle(self.satellite)\n",
    "        return \"TLE line1: \" + line1 + \"\\nTLE line2: \" + line2 \n",
    "    def get_mu_central_body(self):\n",
    "        return pk.MU_EARTH"
   ]
  },
  {
   "cell_type": "code",
   "execution_count": 58,
   "metadata": {},
   "outputs": [],
   "source": [
    "line1 = '1 25544U 98067A   19343.69339541  .00001764  00000-0  38792-4 0  9991'\n",
    "line2 = '2 25544  51.6439 211.2001 0007417  17.6667  85.6398 15.50103472202482'\n",
    "udpla = tle(line1, line2)\n",
    "eps = [pk.epoch(when%1000.2) for when in range(100000)]\n",
    "satellite = Satrec.twoline2rv(line1, line2)\n"
   ]
  },
  {
   "cell_type": "code",
   "execution_count": 59,
   "metadata": {},
   "outputs": [],
   "source": [
    "pla = pk.planet(udpla)"
   ]
  },
  {
   "cell_type": "code",
   "execution_count": 60,
   "metadata": {},
   "outputs": [
    {
     "name": "stdout",
     "output_type": "stream",
     "text": [
      "CPU times: user 111 ms, sys: 1.85 ms, total: 112 ms\n",
      "Wall time: 111 ms\n"
     ]
    }
   ],
   "source": [
    "%%time\n",
    "for ep in eps:\n",
    "    udpla.eph(ep)"
   ]
  },
  {
   "cell_type": "code",
   "execution_count": 61,
   "metadata": {},
   "outputs": [
    {
     "name": "stdout",
     "output_type": "stream",
     "text": [
      "CPU times: user 271 ms, sys: 1.72 ms, total: 273 ms\n",
      "Wall time: 272 ms\n"
     ]
    }
   ],
   "source": [
    "%%time\n",
    "for ep in eps:\n",
    "    pla.eph(ep)"
   ]
  },
  {
   "cell_type": "code",
   "execution_count": 62,
   "metadata": {},
   "outputs": [],
   "source": [
    "satellite = Satrec.twoline2rv(line1, line2)"
   ]
  },
  {
   "cell_type": "code",
   "execution_count": 63,
   "metadata": {},
   "outputs": [
    {
     "ename": "RuntimeError",
     "evalue": "Unable to cast Python instance of type <class 'list'> to C++ type '?' (#define PYBIND11_DETAILED_ERROR_MESSAGES or compile in debug mode for details)",
     "output_type": "error",
     "traceback": [
      "\u001b[0;31m---------------------------------------------------------------------------\u001b[0m",
      "\u001b[0;31mRuntimeError\u001b[0m                              Traceback (most recent call last)",
      "\u001b[1;32m/Users/dario.izzo/Develop/kep3/doc/notebooks/epochs.ipynb Cell 33\u001b[0m line \u001b[0;36m1\n\u001b[0;32m----> <a href='vscode-notebook-cell:/Users/dario.izzo/Develop/kep3/doc/notebooks/epochs.ipynb#X60sZmlsZQ%3D%3D?line=0'>1</a>\u001b[0m get_ipython()\u001b[39m.\u001b[39;49mrun_cell_magic(\u001b[39m'\u001b[39;49m\u001b[39mtimeit\u001b[39;49m\u001b[39m'\u001b[39;49m, \u001b[39m'\u001b[39;49m\u001b[39m'\u001b[39;49m, \u001b[39m'\u001b[39;49m\u001b[39mpla.eph_v(eps)\u001b[39;49m\u001b[39m\\n\u001b[39;49;00m\u001b[39m'\u001b[39;49m)\n",
      "File \u001b[0;32m~/miniconda3/envs/kep3_devel/lib/python3.11/site-packages/IPython/core/interactiveshell.py:2493\u001b[0m, in \u001b[0;36mInteractiveShell.run_cell_magic\u001b[0;34m(self, magic_name, line, cell)\u001b[0m\n\u001b[1;32m   2491\u001b[0m \u001b[39mwith\u001b[39;00m \u001b[39mself\u001b[39m\u001b[39m.\u001b[39mbuiltin_trap:\n\u001b[1;32m   2492\u001b[0m     args \u001b[39m=\u001b[39m (magic_arg_s, cell)\n\u001b[0;32m-> 2493\u001b[0m     result \u001b[39m=\u001b[39m fn(\u001b[39m*\u001b[39;49margs, \u001b[39m*\u001b[39;49m\u001b[39m*\u001b[39;49mkwargs)\n\u001b[1;32m   2495\u001b[0m \u001b[39m# The code below prevents the output from being displayed\u001b[39;00m\n\u001b[1;32m   2496\u001b[0m \u001b[39m# when using magics with decorator @output_can_be_silenced\u001b[39;00m\n\u001b[1;32m   2497\u001b[0m \u001b[39m# when the last Python token in the expression is a ';'.\u001b[39;00m\n\u001b[1;32m   2498\u001b[0m \u001b[39mif\u001b[39;00m \u001b[39mgetattr\u001b[39m(fn, magic\u001b[39m.\u001b[39mMAGIC_OUTPUT_CAN_BE_SILENCED, \u001b[39mFalse\u001b[39;00m):\n",
      "File \u001b[0;32m~/miniconda3/envs/kep3_devel/lib/python3.11/site-packages/IPython/core/magics/execution.py:1185\u001b[0m, in \u001b[0;36mExecutionMagics.timeit\u001b[0;34m(self, line, cell, local_ns)\u001b[0m\n\u001b[1;32m   1183\u001b[0m \u001b[39mfor\u001b[39;00m index \u001b[39min\u001b[39;00m \u001b[39mrange\u001b[39m(\u001b[39m0\u001b[39m, \u001b[39m10\u001b[39m):\n\u001b[1;32m   1184\u001b[0m     number \u001b[39m=\u001b[39m \u001b[39m10\u001b[39m \u001b[39m*\u001b[39m\u001b[39m*\u001b[39m index\n\u001b[0;32m-> 1185\u001b[0m     time_number \u001b[39m=\u001b[39m timer\u001b[39m.\u001b[39;49mtimeit(number)\n\u001b[1;32m   1186\u001b[0m     \u001b[39mif\u001b[39;00m time_number \u001b[39m>\u001b[39m\u001b[39m=\u001b[39m \u001b[39m0.2\u001b[39m:\n\u001b[1;32m   1187\u001b[0m         \u001b[39mbreak\u001b[39;00m\n",
      "File \u001b[0;32m~/miniconda3/envs/kep3_devel/lib/python3.11/site-packages/IPython/core/magics/execution.py:173\u001b[0m, in \u001b[0;36mTimer.timeit\u001b[0;34m(self, number)\u001b[0m\n\u001b[1;32m    171\u001b[0m gc\u001b[39m.\u001b[39mdisable()\n\u001b[1;32m    172\u001b[0m \u001b[39mtry\u001b[39;00m:\n\u001b[0;32m--> 173\u001b[0m     timing \u001b[39m=\u001b[39m \u001b[39mself\u001b[39;49m\u001b[39m.\u001b[39;49minner(it, \u001b[39mself\u001b[39;49m\u001b[39m.\u001b[39;49mtimer)\n\u001b[1;32m    174\u001b[0m \u001b[39mfinally\u001b[39;00m:\n\u001b[1;32m    175\u001b[0m     \u001b[39mif\u001b[39;00m gcold:\n",
      "File \u001b[0;32m<magic-timeit>:1\u001b[0m, in \u001b[0;36minner\u001b[0;34m(_it, _timer)\u001b[0m\n",
      "\u001b[0;31mRuntimeError\u001b[0m: Unable to cast Python instance of type <class 'list'> to C++ type '?' (#define PYBIND11_DETAILED_ERROR_MESSAGES or compile in debug mode for details)"
     ]
    }
   ],
   "source": [
    "%%timeit\n",
    "pla.eph_v(eps)"
   ]
  },
  {
   "cell_type": "code",
   "execution_count": 38,
   "metadata": {},
   "outputs": [
    {
     "name": "stdout",
     "output_type": "stream",
     "text": [
      "96.8 ms ± 465 µs per loop (mean ± std. dev. of 7 runs, 10 loops each)\n"
     ]
    }
   ],
   "source": [
    "%%timeit\n",
    "for ep in eps:\n",
    "    jd = ep.jd\n",
    "    jd_i = int(jd)\n",
    "    jd_fr = jd-jd_i\n",
    "    e, r, v = satellite.sgp4(jd_i, jd_fr)\n",
    "    [it*1000 for it in r], [it*1000 for it in v]"
   ]
  },
  {
   "cell_type": "code",
   "execution_count": 39,
   "metadata": {},
   "outputs": [
    {
     "name": "stdout",
     "output_type": "stream",
     "text": [
      "479 ns ± 2.7 ns per loop (mean ± std. dev. of 7 runs, 1,000,000 loops each)\n"
     ]
    }
   ],
   "source": [
    "%%timeit\n",
    "satellite.sgp4(27000, 0.0)"
   ]
  },
  {
   "cell_type": "code",
   "execution_count": 40,
   "metadata": {},
   "outputs": [],
   "source": [
    "jds = [item.jd for item in eps]\n",
    "jd_is = [int(item) for item in jds]\n",
    "jd_frs = [a-b for a,b in zip(jds, jd_is)]\n",
    "e, r, v = satellite.sgp4_array(np.array(jd_is), np.array(jd_frs))\n"
   ]
  },
  {
   "cell_type": "code",
   "execution_count": 41,
   "metadata": {},
   "outputs": [
    {
     "data": {
      "text/plain": [
       "array([[-1342.62309448,  5032.4243746 , -4439.55125039],\n",
       "       [-3719.45084139, -2366.62425989,  5224.2841185 ],\n",
       "       [ 5813.38678479, -2339.49077054, -2721.45373998],\n",
       "       ...,\n",
       "       [ -216.4187955 , -4542.78037437,  5108.56384263],\n",
       "       [ 5547.54702119,  3541.24918466, -1846.88529286],\n",
       "       [-6180.37780609,   698.81920703, -2867.8951121 ]])"
      ]
     },
     "execution_count": 41,
     "metadata": {},
     "output_type": "execute_result"
    }
   ],
   "source": [
    "r"
   ]
  },
  {
   "cell_type": "code",
   "execution_count": 43,
   "metadata": {},
   "outputs": [
    {
     "data": {
      "text/plain": [
       "numpy.ndarray"
      ]
     },
     "execution_count": 43,
     "metadata": {},
     "output_type": "execute_result"
    }
   ],
   "source": [
    "type(r[0])"
   ]
  },
  {
   "cell_type": "code",
   "execution_count": 64,
   "metadata": {},
   "outputs": [
    {
     "data": {
      "text/plain": [
       "array([[-1.34262309e+03,  5.03242437e+03, -4.43955125e+03,\n",
       "        -6.74956322e+00,  1.16902739e+00,  3.35423473e+00],\n",
       "       [-3.71945084e+03, -2.36662426e+03,  5.22428412e+03,\n",
       "         5.28445236e+00, -5.34777953e+00,  1.32628911e+00],\n",
       "       [ 5.81338678e+03, -2.33949077e+03, -2.72145374e+03,\n",
       "        -1.46666466e-01,  5.63187335e+00, -5.16532254e+00],\n",
       "       ...,\n",
       "       [-2.16418796e+02, -4.54278037e+03,  5.10856384e+03,\n",
       "         7.21504628e+00,  1.70875772e+00,  1.81082782e+00],\n",
       "       [ 5.54754702e+03,  3.54124918e+03, -1.84688529e+03,\n",
       "        -3.97684598e+00,  3.30300205e+00, -5.62835309e+00],\n",
       "       [-6.18037781e+03,  6.98819207e+02, -2.86789511e+03,\n",
       "        -2.90631033e+00, -4.91484466e+00,  5.05528530e+00]])"
      ]
     },
     "execution_count": 64,
     "metadata": {},
     "output_type": "execute_result"
    }
   ],
   "source": [
    "np.hstack((r,v))"
   ]
  },
  {
   "cell_type": "code",
   "execution_count": 47,
   "metadata": {},
   "outputs": [
    {
     "data": {
      "text/plain": [
       "array([-1342.62309448,  5032.4243746 , -4439.55125039])"
      ]
     },
     "execution_count": 47,
     "metadata": {},
     "output_type": "execute_result"
    }
   ],
   "source": [
    "r[0]"
   ]
  },
  {
   "cell_type": "code",
   "execution_count": 48,
   "metadata": {},
   "outputs": [
    {
     "data": {
      "text/plain": [
       "array([-6.74956322,  1.16902739,  3.35423473])"
      ]
     },
     "execution_count": 48,
     "metadata": {},
     "output_type": "execute_result"
    }
   ],
   "source": [
    "v[0]"
   ]
  },
  {
   "cell_type": "code",
   "execution_count": null,
   "metadata": {},
   "outputs": [],
   "source": []
  }
 ],
 "metadata": {
  "kernelspec": {
   "display_name": "kep3_devel",
   "language": "python",
   "name": "python3"
  },
  "language_info": {
   "codemirror_mode": {
    "name": "ipython",
    "version": 3
   },
   "file_extension": ".py",
   "mimetype": "text/x-python",
   "name": "python",
   "nbconvert_exporter": "python",
   "pygments_lexer": "ipython3",
   "version": "3.11.6"
  },
  "orig_nbformat": 4
 },
 "nbformat": 4,
 "nbformat_minor": 2
}
