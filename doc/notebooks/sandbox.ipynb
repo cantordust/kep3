{
 "cells": [
  {
   "cell_type": "code",
   "execution_count": 1,
   "metadata": {},
   "outputs": [],
   "source": [
    "from sgp4.api import Satrec\n",
    "from sgp4 import exporter\n",
    "import pykep as pk\n",
    "import numpy as np\n",
    "\n",
    "class tle:\n",
    "    \"\"\"__init__(line1, line2)\n",
    "\n",
    "    This User Defined Planet (UDPLA) represents a satellite orbiting the Earth and defined in the TLE format\n",
    "    and propagated using the SGP4 propagator.\n",
    "\n",
    "    .. note::\n",
    "       The resulting ephemerides will be returned in SI units and in the True Equator Mean Equinox (TEME) reference frame\n",
    "\n",
    "    \"\"\"\n",
    "    def __init__(self, line1, line2):\n",
    "        import pykep as pk\n",
    "        self.satellite = Satrec.twoline2rv(line1, line2)\n",
    "        self.e = 0\n",
    "        self.ref_epoch = pk.epoch(self.satellite.jdsatepoch + self.satellite.jdsatepochF, pk.epoch.julian_type.JD)\n",
    "    def eph(self, ep):\n",
    "        jd = ep.jd\n",
    "        jd_i = int(jd)\n",
    "        jd_fr = jd-jd_i\n",
    "        self.e, r, v = self.satellite.sgp4(jd_i, jd_fr)\n",
    "        return [[it*1000 for it in r], [it*1000 for it in v]]\n",
    "    def eph_v(self, eps):\n",
    "        jds = [ep.jd for ep in eps]\n",
    "        jd_is = [int(item) for item in jds]\n",
    "        jd_frs = [a-b for a,b in zip(jds,jd_is)]\n",
    "        self.e, r, v = self.satellite.sgp4_array(np.array(jd_is), np.array(jd_frs))\n",
    "        rv = np.hstack((r,v))\n",
    "        return rv.flatten() \n",
    "    def get_name(self):\n",
    "        return self.satellite.satnum_str + \" - SGP4\"\n",
    "    def get_extra_info(self):\n",
    "        line1, line2 = exporter.export_tle(self.satellite)\n",
    "        return \"TLE line1: \" + line1 + \"\\nTLE line2: \" + line2 \n",
    "    def get_mu_central_body(self):\n",
    "        return pk.MU_EARTH"
   ]
  },
  {
   "cell_type": "code",
   "execution_count": 9,
   "metadata": {},
   "outputs": [],
   "source": [
    "line1 = '1 25544U 98067A   19343.69339541  .00001764  00000-0  38792-4 0  9991'\n",
    "line2 = '2 25544  51.6439 211.2001 0007417  17.6667  85.6398 15.50103472202482'\n",
    "udpla = tle(line1, line2)\n",
    "eps = [pk.epoch(when%1000.2) for when in range(1000)]\n",
    "satellite = Satrec.twoline2rv(line1, line2)\n"
   ]
  },
  {
   "cell_type": "code",
   "execution_count": 10,
   "metadata": {},
   "outputs": [],
   "source": [
    "pla = pk.planet(udpla)"
   ]
  },
  {
   "cell_type": "code",
   "execution_count": 11,
   "metadata": {},
   "outputs": [
    {
     "name": "stdout",
     "output_type": "stream",
     "text": [
      "974 µs ± 1.49 µs per loop (mean ± std. dev. of 7 runs, 1,000 loops each)\n"
     ]
    }
   ],
   "source": [
    "%%timeit\n",
    "for ep in eps:\n",
    "    r = udpla.eph(ep)"
   ]
  },
  {
   "cell_type": "code",
   "execution_count": 12,
   "metadata": {},
   "outputs": [
    {
     "name": "stdout",
     "output_type": "stream",
     "text": [
      "2.42 ms ± 12 µs per loop (mean ± std. dev. of 7 runs, 100 loops each)\n"
     ]
    }
   ],
   "source": [
    "%%timeit\n",
    "for ep in eps:\n",
    "    r = pla.eph(ep)"
   ]
  },
  {
   "cell_type": "code",
   "execution_count": 13,
   "metadata": {},
   "outputs": [
    {
     "name": "stdout",
     "output_type": "stream",
     "text": [
      "963 µs ± 3.77 µs per loop (mean ± std. dev. of 7 runs, 1,000 loops each)\n"
     ]
    }
   ],
   "source": [
    "%%timeit\n",
    "r = pla.eph_v(eps)"
   ]
  },
  {
   "cell_type": "code",
   "execution_count": 15,
   "metadata": {},
   "outputs": [
    {
     "name": "stdout",
     "output_type": "stream",
     "text": [
      "619 µs ± 1.21 µs per loop (mean ± std. dev. of 7 runs, 1,000 loops each)\n"
     ]
    }
   ],
   "source": [
    "%%timeit\n",
    "for ep in eps:\n",
    "    jd = ep.jd\n",
    "    jd_i = int(jd)\n",
    "    jd_fr = jd-jd_i\n",
    "    e, r, v = satellite.sgp4(jd_i, jd_fr)\n"
   ]
  },
  {
   "cell_type": "code",
   "execution_count": 16,
   "metadata": {},
   "outputs": [
    {
     "name": "stdout",
     "output_type": "stream",
     "text": [
      "565 µs ± 7.05 µs per loop (mean ± std. dev. of 7 runs, 1,000 loops each)\n"
     ]
    }
   ],
   "source": [
    "%%timeit\n",
    "jds = [item.jd for item in eps]\n",
    "jd_is = [int(item) for item in jds]\n",
    "jd_frs = [a-b for a,b in zip(jds, jd_is)]\n",
    "e, r, v = satellite.sgp4_array(np.array(jd_is), np.array(jd_frs))\n"
   ]
  },
  {
   "cell_type": "code",
   "execution_count": 20,
   "metadata": {},
   "outputs": [
    {
     "name": "stdout",
     "output_type": "stream",
     "text": [
      "140 ns ± 0.298 ns per loop (mean ± std. dev. of 7 runs, 10,000,000 loops each)\n"
     ]
    }
   ],
   "source": [
    "%%timeit\n",
    "    d = eps[0].mjd2000"
   ]
  },
  {
   "cell_type": "code",
   "execution_count": null,
   "metadata": {},
   "outputs": [],
   "source": []
  }
 ],
 "metadata": {
  "kernelspec": {
   "display_name": "kep3_devel",
   "language": "python",
   "name": "python3"
  },
  "language_info": {
   "codemirror_mode": {
    "name": "ipython",
    "version": 3
   },
   "file_extension": ".py",
   "mimetype": "text/x-python",
   "name": "python",
   "nbconvert_exporter": "python",
   "pygments_lexer": "ipython3",
   "version": "3.11.6"
  },
  "orig_nbformat": 4
 },
 "nbformat": 4,
 "nbformat_minor": 2
}
