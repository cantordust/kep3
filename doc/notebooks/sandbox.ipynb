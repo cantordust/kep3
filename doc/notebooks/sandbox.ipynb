{
 "cells": [
  {
   "cell_type": "code",
   "execution_count": 1,
   "metadata": {},
   "outputs": [],
   "source": [
    "from sgp4.api import Satrec\n",
    "from sgp4 import exporter\n",
    "import pykep as pk\n",
    "import numpy as np\n",
    "\n",
    "class tle:\n",
    "    \"\"\"__init__(line1, line2)\n",
    "\n",
    "    This User Defined Planet (UDPLA) represents a satellite orbiting the Earth and defined in the TLE format\n",
    "    and propagated using the SGP4 propagator.\n",
    "\n",
    "    .. note::\n",
    "       The resulting ephemerides will be returned in SI units and in the True Equator Mean Equinox (TEME) reference frame\n",
    "\n",
    "    \"\"\"\n",
    "    def __init__(self, line1, line2):\n",
    "        import pykep as pk\n",
    "        self.satellite = Satrec.twoline2rv(line1, line2)\n",
    "        self.e = 0\n",
    "        self.ref_epoch = pk.epoch(self.satellite.jdsatepoch + self.satellite.jdsatepochF, pk.epoch.julian_type.JD)\n",
    "    def eph(self, mjd2000):\n",
    "        jd = mjd2000 + 2451544.5\n",
    "        jd_i = int(jd)\n",
    "        jd_fr = jd-jd_i\n",
    "        self.e, r, v = self.satellite.sgp4(jd_i, jd_fr)\n",
    "        return [[it*1000 for it in r], [it*1000 for it in v]]\n",
    "    def eph_v(self, mjd2000s):\n",
    "        jds = [mjd2000 + 51544 + 2451544.5 for mjd2000 in mjd2000s]\n",
    "        jd_is = [int(item) for item in jds]\n",
    "        jd_frs = [a-b for a,b in zip(jds,jd_is)]\n",
    "        self.e, r, v = self.satellite.sgp4_array(np.array(jd_is), np.array(jd_frs))\n",
    "        rv = np.hstack((r,v))\n",
    "        return rv.reshape((-1, 6)) \n",
    "    def get_name(self):\n",
    "        return self.satellite.satnum_str + \" - SGP4\"\n",
    "    def get_extra_info(self):\n",
    "        line1, line2 = exporter.export_tle(self.satellite)\n",
    "        return \"TLE line1: \" + line1 + \"\\nTLE line2: \" + line2 \n",
    "    def get_mu_central_body(self):\n",
    "        return pk.MU_EARTH"
   ]
  },
  {
   "cell_type": "code",
   "execution_count": 2,
   "metadata": {},
   "outputs": [],
   "source": [
    "line1 = '1 25544U 98067A   19343.69339541  .00001764  00000-0  38792-4 0  9991'\n",
    "line2 = '2 25544  51.6439 211.2001 0007417  17.6667  85.6398 15.50103472202482'\n",
    "udpla = tle(line1, line2)\n",
    "mjd2000s = np.array([when%1000.2 for when in range(20000)])\n",
    "satellite = Satrec.twoline2rv(line1, line2)\n"
   ]
  },
  {
   "cell_type": "code",
   "execution_count": 3,
   "metadata": {},
   "outputs": [],
   "source": [
    "pla = pk.planet(udpla)"
   ]
  },
  {
   "cell_type": "code",
   "execution_count": 4,
   "metadata": {},
   "outputs": [
    {
     "name": "stdout",
     "output_type": "stream",
     "text": [
      "18.8 ms ± 202 µs per loop (mean ± std. dev. of 7 runs, 100 loops each)\n"
     ]
    }
   ],
   "source": [
    "%%timeit\n",
    "for mjd2000 in mjd2000s:\n",
    "    r = udpla.eph(mjd2000)"
   ]
  },
  {
   "cell_type": "code",
   "execution_count": 5,
   "metadata": {},
   "outputs": [
    {
     "name": "stdout",
     "output_type": "stream",
     "text": [
      "45.8 ms ± 602 µs per loop (mean ± std. dev. of 7 runs, 10 loops each)\n"
     ]
    }
   ],
   "source": [
    "%%timeit\n",
    "for mjd2000 in mjd2000s:\n",
    "    r = pla.eph(mjd2000)"
   ]
  },
  {
   "cell_type": "code",
   "execution_count": 6,
   "metadata": {},
   "outputs": [
    {
     "name": "stdout",
     "output_type": "stream",
     "text": [
      "8.04 ms ± 155 µs per loop (mean ± std. dev. of 7 runs, 100 loops each)\n"
     ]
    }
   ],
   "source": [
    "%%timeit\n",
    "r = pla.eph_v(mjd2000s)"
   ]
  },
  {
   "cell_type": "code",
   "execution_count": 7,
   "metadata": {},
   "outputs": [
    {
     "name": "stdout",
     "output_type": "stream",
     "text": [
      "7.48 ms ± 135 µs per loop (mean ± std. dev. of 7 runs, 100 loops each)\n"
     ]
    }
   ],
   "source": [
    "%%timeit\n",
    "for mjd2000 in mjd2000s:\n",
    "    jd = mjd2000 + 2451544.5\n",
    "    jd_i = int(jd)\n",
    "    jd_fr = jd-jd_i\n",
    "    e, r, v = satellite.sgp4(jd_i, jd_fr)\n"
   ]
  },
  {
   "cell_type": "code",
   "execution_count": 8,
   "metadata": {},
   "outputs": [
    {
     "name": "stdout",
     "output_type": "stream",
     "text": [
      "5.4 ms ± 74.4 µs per loop (mean ± std. dev. of 7 runs, 100 loops each)\n"
     ]
    }
   ],
   "source": [
    "%%timeit\n",
    "jds = [mjd2000 + 2451544.5 for mjd2000 in mjd2000s]\n",
    "jd_is = [int(item) for item in jds]\n",
    "jd_frs = [a-b for a,b in zip(jds, jd_is)]\n",
    "e, r, v = satellite.sgp4_array(np.array(jd_is), np.array(jd_frs))\n"
   ]
  },
  {
   "cell_type": "code",
   "execution_count": 9,
   "metadata": {},
   "outputs": [],
   "source": [
    "import spiceypy as pyspice\n"
   ]
  },
  {
   "cell_type": "code",
   "execution_count": 10,
   "metadata": {},
   "outputs": [],
   "source": [
    "pk.utils.load_spice_kernels(\"../../pykep/data/de440s.bsp\")"
   ]
  },
  {
   "cell_type": "code",
   "execution_count": 11,
   "metadata": {},
   "outputs": [],
   "source": [
    "rv, _ = pyspice.spkezr(\"JUPITER BARYCENTER\", [0.,1.,2.,3], \"ECLIPJ2000\", \"NONE\", \"SSB\")"
   ]
  },
  {
   "cell_type": "code",
   "execution_count": 12,
   "metadata": {},
   "outputs": [
    {
     "data": {
      "text/plain": [
       "(4, 6)"
      ]
     },
     "execution_count": 12,
     "metadata": {},
     "output_type": "execute_result"
    }
   ],
   "source": [
    "np.array(rv).shape"
   ]
  },
  {
   "cell_type": "code",
   "execution_count": 13,
   "metadata": {},
   "outputs": [],
   "source": [
    "udpla = pk.udpla.spice(\"JUPITER BARYCENTER\", \"ECLIPJ2000\", \"SSB\")\n"
   ]
  },
  {
   "cell_type": "code",
   "execution_count": 14,
   "metadata": {},
   "outputs": [],
   "source": [
    "pla = pk.planet(udpla)"
   ]
  },
  {
   "cell_type": "code",
   "execution_count": 17,
   "metadata": {},
   "outputs": [
    {
     "name": "stdout",
     "output_type": "stream",
     "text": [
      "115 ms ± 1.51 ms per loop (mean ± std. dev. of 7 runs, 10 loops each)\n"
     ]
    }
   ],
   "source": [
    "%%timeit\n",
    "for mjd2000 in mjd2000s:\n",
    "    udpla.eph(mjd2000)"
   ]
  },
  {
   "cell_type": "code",
   "execution_count": 18,
   "metadata": {},
   "outputs": [
    {
     "name": "stdout",
     "output_type": "stream",
     "text": [
      "155 ms ± 320 µs per loop (mean ± std. dev. of 7 runs, 10 loops each)\n"
     ]
    }
   ],
   "source": [
    "%%timeit\n",
    "for mjd2000 in mjd2000s:\n",
    "    r = pla.eph(mjd2000)"
   ]
  },
  {
   "cell_type": "code",
   "execution_count": 19,
   "metadata": {},
   "outputs": [
    {
     "name": "stdout",
     "output_type": "stream",
     "text": [
      "46 ms ± 544 µs per loop (mean ± std. dev. of 7 runs, 10 loops each)\n"
     ]
    }
   ],
   "source": [
    "%%timeit\n",
    "r = pla.eph_v(mjd2000s)"
   ]
  },
  {
   "cell_type": "code",
   "execution_count": 20,
   "metadata": {},
   "outputs": [
    {
     "name": "stdout",
     "output_type": "stream",
     "text": [
      "71.4 ms ± 355 µs per loop (mean ± std. dev. of 7 runs, 10 loops each)\n"
     ]
    }
   ],
   "source": [
    "%%timeit\n",
    "for mjd2000 in mjd2000s:\n",
    "    rv, _ = pyspice.spkezr(\"JUPITER BARYCENTER\", (mjd2000-0.5)*pk.DAY2SEC, \"ECLIPJ2000\", \"NONE\", \"SSB\")"
   ]
  },
  {
   "cell_type": "code",
   "execution_count": 21,
   "metadata": {},
   "outputs": [
    {
     "ename": "KeyboardInterrupt",
     "evalue": "",
     "output_type": "error",
     "traceback": [
      "\u001b[0;31m---------------------------------------------------------------------------\u001b[0m",
      "\u001b[0;31mKeyboardInterrupt\u001b[0m                         Traceback (most recent call last)",
      "\u001b[1;32m/Users/dario.izzo/Develop/kep3/doc/notebooks/sandbox.ipynb Cell 19\u001b[0m line \u001b[0;36m1\n\u001b[0;32m----> <a href='vscode-notebook-cell:/Users/dario.izzo/Develop/kep3/doc/notebooks/sandbox.ipynb#X31sZmlsZQ%3D%3D?line=0'>1</a>\u001b[0m get_ipython()\u001b[39m.\u001b[39;49mrun_cell_magic(\u001b[39m'\u001b[39;49m\u001b[39mtimeit\u001b[39;49m\u001b[39m'\u001b[39;49m, \u001b[39m'\u001b[39;49m\u001b[39m'\u001b[39;49m, \u001b[39m'\u001b[39;49m\u001b[39mfor mjd2000 in mjd2000s:\u001b[39;49m\u001b[39m\\n\u001b[39;49;00m\u001b[39m    rv, _ = pyspice.spkezr(\u001b[39;49m\u001b[39m\"\u001b[39;49m\u001b[39mJUPITER BARYCENTER\u001b[39;49m\u001b[39m\"\u001b[39;49m\u001b[39m, mjd2000s + 2451544.5, \u001b[39;49m\u001b[39m\"\u001b[39;49m\u001b[39mECLIPJ2000\u001b[39;49m\u001b[39m\"\u001b[39;49m\u001b[39m, \u001b[39;49m\u001b[39m\"\u001b[39;49m\u001b[39mNONE\u001b[39;49m\u001b[39m\"\u001b[39;49m\u001b[39m, \u001b[39;49m\u001b[39m\"\u001b[39;49m\u001b[39mSSB\u001b[39;49m\u001b[39m\"\u001b[39;49m\u001b[39m)\u001b[39;49m\u001b[39m\\n\u001b[39;49;00m\u001b[39m'\u001b[39;49m)\n",
      "File \u001b[0;32m~/miniconda3/envs/kep3_devel/lib/python3.11/site-packages/IPython/core/interactiveshell.py:2493\u001b[0m, in \u001b[0;36mInteractiveShell.run_cell_magic\u001b[0;34m(self, magic_name, line, cell)\u001b[0m\n\u001b[1;32m   2491\u001b[0m \u001b[39mwith\u001b[39;00m \u001b[39mself\u001b[39m\u001b[39m.\u001b[39mbuiltin_trap:\n\u001b[1;32m   2492\u001b[0m     args \u001b[39m=\u001b[39m (magic_arg_s, cell)\n\u001b[0;32m-> 2493\u001b[0m     result \u001b[39m=\u001b[39m fn(\u001b[39m*\u001b[39;49margs, \u001b[39m*\u001b[39;49m\u001b[39m*\u001b[39;49mkwargs)\n\u001b[1;32m   2495\u001b[0m \u001b[39m# The code below prevents the output from being displayed\u001b[39;00m\n\u001b[1;32m   2496\u001b[0m \u001b[39m# when using magics with decorator @output_can_be_silenced\u001b[39;00m\n\u001b[1;32m   2497\u001b[0m \u001b[39m# when the last Python token in the expression is a ';'.\u001b[39;00m\n\u001b[1;32m   2498\u001b[0m \u001b[39mif\u001b[39;00m \u001b[39mgetattr\u001b[39m(fn, magic\u001b[39m.\u001b[39mMAGIC_OUTPUT_CAN_BE_SILENCED, \u001b[39mFalse\u001b[39;00m):\n",
      "File \u001b[0;32m~/miniconda3/envs/kep3_devel/lib/python3.11/site-packages/IPython/core/magics/execution.py:1185\u001b[0m, in \u001b[0;36mExecutionMagics.timeit\u001b[0;34m(self, line, cell, local_ns)\u001b[0m\n\u001b[1;32m   1183\u001b[0m \u001b[39mfor\u001b[39;00m index \u001b[39min\u001b[39;00m \u001b[39mrange\u001b[39m(\u001b[39m0\u001b[39m, \u001b[39m10\u001b[39m):\n\u001b[1;32m   1184\u001b[0m     number \u001b[39m=\u001b[39m \u001b[39m10\u001b[39m \u001b[39m*\u001b[39m\u001b[39m*\u001b[39m index\n\u001b[0;32m-> 1185\u001b[0m     time_number \u001b[39m=\u001b[39m timer\u001b[39m.\u001b[39;49mtimeit(number)\n\u001b[1;32m   1186\u001b[0m     \u001b[39mif\u001b[39;00m time_number \u001b[39m>\u001b[39m\u001b[39m=\u001b[39m \u001b[39m0.2\u001b[39m:\n\u001b[1;32m   1187\u001b[0m         \u001b[39mbreak\u001b[39;00m\n",
      "File \u001b[0;32m~/miniconda3/envs/kep3_devel/lib/python3.11/site-packages/IPython/core/magics/execution.py:173\u001b[0m, in \u001b[0;36mTimer.timeit\u001b[0;34m(self, number)\u001b[0m\n\u001b[1;32m    171\u001b[0m gc\u001b[39m.\u001b[39mdisable()\n\u001b[1;32m    172\u001b[0m \u001b[39mtry\u001b[39;00m:\n\u001b[0;32m--> 173\u001b[0m     timing \u001b[39m=\u001b[39m \u001b[39mself\u001b[39;49m\u001b[39m.\u001b[39;49minner(it, \u001b[39mself\u001b[39;49m\u001b[39m.\u001b[39;49mtimer)\n\u001b[1;32m    174\u001b[0m \u001b[39mfinally\u001b[39;00m:\n\u001b[1;32m    175\u001b[0m     \u001b[39mif\u001b[39;00m gcold:\n",
      "File \u001b[0;32m<magic-timeit>:2\u001b[0m, in \u001b[0;36minner\u001b[0;34m(_it, _timer)\u001b[0m\n",
      "File \u001b[0;32m~/miniconda3/envs/kep3_devel/lib/python3.11/site-packages/spiceypy/spiceypy.py:138\u001b[0m, in \u001b[0;36mspice_error_check.<locals>.with_errcheck\u001b[0;34m(*args, **kwargs)\u001b[0m\n\u001b[1;32m    135\u001b[0m \u001b[39m@functools\u001b[39m\u001b[39m.\u001b[39mwraps(f)\n\u001b[1;32m    136\u001b[0m \u001b[39mdef\u001b[39;00m \u001b[39mwith_errcheck\u001b[39m(\u001b[39m*\u001b[39margs, \u001b[39m*\u001b[39m\u001b[39m*\u001b[39mkwargs):\n\u001b[1;32m    137\u001b[0m     \u001b[39mtry\u001b[39;00m:\n\u001b[0;32m--> 138\u001b[0m         res \u001b[39m=\u001b[39m f(\u001b[39m*\u001b[39;49margs, \u001b[39m*\u001b[39;49m\u001b[39m*\u001b[39;49mkwargs)\n\u001b[1;32m    139\u001b[0m         check_for_spice_error(f)\n\u001b[1;32m    140\u001b[0m         \u001b[39mreturn\u001b[39;00m res\n",
      "File \u001b[0;32m~/miniconda3/envs/kep3_devel/lib/python3.11/site-packages/spiceypy/spiceypy.py:12985\u001b[0m, in \u001b[0;36mspkezr\u001b[0;34m(targ, et, ref, abcorr, obs)\u001b[0m\n\u001b[1;32m  12981\u001b[0m     libspice\u001b[39m.\u001b[39mspkezr_c(\n\u001b[1;32m  12982\u001b[0m         targ, ctypes\u001b[39m.\u001b[39mc_double(t), ref, abcorr, obs, starg, ctypes\u001b[39m.\u001b[39mbyref(lt)\n\u001b[1;32m  12983\u001b[0m     )\n\u001b[1;32m  12984\u001b[0m     check_for_spice_error(\u001b[39mNone\u001b[39;00m)\n\u001b[0;32m> 12985\u001b[0m     states\u001b[39m.\u001b[39mappend(stypes\u001b[39m.\u001b[39;49mc_vector_to_python(starg))\n\u001b[1;32m  12986\u001b[0m     times\u001b[39m.\u001b[39mappend(lt\u001b[39m.\u001b[39mvalue)\n\u001b[1;32m  12987\u001b[0m \u001b[39mreturn\u001b[39;00m states, times\n",
      "File \u001b[0;32m~/miniconda3/envs/kep3_devel/lib/python3.11/site-packages/spiceypy/utils/support_types.py:159\u001b[0m, in \u001b[0;36mc_vector_to_python\u001b[0;34m(x)\u001b[0m\n\u001b[1;32m    157\u001b[0m     \u001b[39mreturn\u001b[39;00m numpy\u001b[39m.\u001b[39mfrombuffer(x, dtype\u001b[39m=\u001b[39mnumpy\u001b[39m.\u001b[39mint32)\u001b[39m.\u001b[39mcopy()\n\u001b[1;32m    158\u001b[0m \u001b[39melif\u001b[39;00m \u001b[39misinstance\u001b[39m(x[\u001b[39m0\u001b[39m], \u001b[39mfloat\u001b[39m):\n\u001b[0;32m--> 159\u001b[0m     \u001b[39mreturn\u001b[39;00m numpy\u001b[39m.\u001b[39;49mfrombuffer(x, dtype\u001b[39m=\u001b[39;49mnumpy\u001b[39m.\u001b[39;49mfloat64)\u001b[39m.\u001b[39mcopy()\n\u001b[1;32m    160\u001b[0m \u001b[39melif\u001b[39;00m \u001b[39misinstance\u001b[39m(x[\u001b[39m0\u001b[39m]\u001b[39m.\u001b[39mvalue, \u001b[39mbytes\u001b[39m):\n\u001b[1;32m    161\u001b[0m     \u001b[39mreturn\u001b[39;00m [to_python_string(y) \u001b[39mfor\u001b[39;00m y \u001b[39min\u001b[39;00m x]\n",
      "\u001b[0;31mKeyboardInterrupt\u001b[0m: "
     ]
    }
   ],
   "source": [
    "%%timeit\n",
    "for mjd2000 in mjd2000s:\n",
    "    rv, _ = pyspice.spkezr(\"JUPITER BARYCENTER\", (mjd2000-0.5)*pk.DAY2SEC), \"ECLIPJ2000\", \"NONE\", \"SSB\")"
   ]
  },
  {
   "cell_type": "code",
   "execution_count": null,
   "metadata": {},
   "outputs": [],
   "source": []
  }
 ],
 "metadata": {
  "kernelspec": {
   "display_name": "kep3_devel",
   "language": "python",
   "name": "python3"
  },
  "language_info": {
   "codemirror_mode": {
    "name": "ipython",
    "version": 3
   },
   "file_extension": ".py",
   "mimetype": "text/x-python",
   "name": "python",
   "nbconvert_exporter": "python",
   "pygments_lexer": "ipython3",
   "version": "3.11.6"
  },
  "orig_nbformat": 4
 },
 "nbformat": 4,
 "nbformat_minor": 2
}
