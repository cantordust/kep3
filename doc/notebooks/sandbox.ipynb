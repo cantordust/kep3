{
 "cells": [
  {
   "cell_type": "markdown",
   "metadata": {},
   "source": [
    "# Epochs and Julian Dates\n",
    "\n",
    "The representation of an epoch, that is of a specific point in time, be it in the future or in the past, can be rather confusing. In `pykep` we opted to offer the dedicated class {class}`pykep.epoch` that takes care to offer a simple interface and, under the hoods, interfaces seamlessly both to the c++ `std::chrono`  library and the python {class}`numpy.datetime` module. Find it in our API documentation under the section \"[Relatated to epochs](../epoch.rst)\"\n",
    "\n",
    "Let us briefly show its interface."
   ]
  },
  {
   "cell_type": "markdown",
   "metadata": {},
   "source": [
    "An `epoch` may be created in one of four ways: \n",
    "\n",
    "1. constructing one from a Julian Date (i.e. a float representing the number of days passed from some historical date).\n",
    "2. constructing one from a datetime object.\n",
    "3. constructing directly from an ISO 8601 string.\n",
    "4. requesting the current date from the {func}`pykep.utc_now` function.\n",
    "\n",
    ":::{note}\n",
    "**MJD2000** is the Default Julian Date. When not specified othewise by the user, in the context of epoch arithmetics a float will always be considered by `pykep` as a Modified Julian Date 2000, i.e. as the number of days from `2000-01-01T00:00:00.000000`, or as days if it represents a duration.\n",
    "\n",
    ":::{note}\n",
    "The date in `pykep` **does** account for leap seconds. If the user wishes to use the exact ISO 8601 representation of some epoch, also including leap seconds, he will have to account for the offset himself. As of of 2023 this may account to maximum 28 seconds. [More info](https://en.wikipedia.org/wiki/Leap_second) on leap seconds."
   ]
  },
  {
   "cell_type": "code",
   "execution_count": null,
   "metadata": {},
   "outputs": [],
   "source": [
    "import pykep as pk\n",
    "import datetime"
   ]
  },
  {
   "cell_type": "markdown",
   "metadata": {},
   "source": [
    "## Julian dates"
   ]
  },
  {
   "cell_type": "code",
   "execution_count": null,
   "metadata": {},
   "outputs": [],
   "source": [
    "ep = pk.epoch(0.)"
   ]
  },
  {
   "cell_type": "markdown",
   "metadata": {},
   "source": [
    "we can print this on screen:"
   ]
  },
  {
   "cell_type": "code",
   "execution_count": null,
   "metadata": {},
   "outputs": [],
   "source": [
    "print(ep)"
   ]
  },
  {
   "cell_type": "markdown",
   "metadata": {},
   "source": [
    ".. or instantiate an epoch by explicitly mentioning the Julian Date type:"
   ]
  },
  {
   "cell_type": "code",
   "execution_count": null,
   "metadata": {},
   "outputs": [],
   "source": [
    "ep = pk.epoch(0., pk.epoch.julian_type.MJD2000)\n",
    "print(ep)"
   ]
  },
  {
   "cell_type": "markdown",
   "metadata": {},
   "source": [
    ".. or use a different Julian Date than the default MJD2000:"
   ]
  },
  {
   "cell_type": "code",
   "execution_count": null,
   "metadata": {},
   "outputs": [],
   "source": [
    "ep = pk.epoch(2460676.5000000, pk.epoch.julian_type.JD)\n",
    "print(ep)"
   ]
  },
  {
   "cell_type": "markdown",
   "metadata": {},
   "source": [
    ":::{note}\n",
    "`pykep` supports the following Julian Dates MJD2000 (the default), MJD and JD. (see {class}`pykep.epoch.julian_type`)"
   ]
  },
  {
   "cell_type": "markdown",
   "metadata": {},
   "source": [
    "We may also request an epoch corresponding to the current UTC time:"
   ]
  },
  {
   "cell_type": "code",
   "execution_count": null,
   "metadata": {},
   "outputs": [],
   "source": [
    "ep = pk.utc_now()\n",
    "print(ep)"
   ]
  },
  {
   "cell_type": "markdown",
   "metadata": {},
   "source": [
    "or construct it from an iso string:\n"
   ]
  },
  {
   "cell_type": "code",
   "execution_count": null,
   "metadata": {},
   "outputs": [],
   "source": [
    "ep = pk.epoch(\"2023-10-28T00:01:02.12\")\n",
    "print(ep)\n"
   ]
  },
  {
   "cell_type": "markdown",
   "metadata": {},
   "source": [
    "## Datetime interoperability"
   ]
  },
  {
   "cell_type": "markdown",
   "metadata": {},
   "source": [
    "If we have a datetime object from python builtin datetime library we can construct an epoch with it:"
   ]
  },
  {
   "cell_type": "code",
   "execution_count": null,
   "metadata": {},
   "outputs": [],
   "source": [
    "dt = datetime.datetime(year=2033, month=11, day=12, hour=12, minute=22, second=12, microsecond=14532)\n",
    "ep = pk.epoch(dt)\n",
    "print(ep)"
   ]
  },
  {
   "cell_type": "markdown",
   "metadata": {},
   "source": [
    "and convert it, when needed, to a julian representation:"
   ]
  },
  {
   "cell_type": "code",
   "execution_count": null,
   "metadata": {},
   "outputs": [],
   "source": [
    "print(ep.mjd)"
   ]
  },
  {
   "cell_type": "markdown",
   "metadata": {},
   "source": [
    "## The epoch math\n",
    "Additions and subtractions are allowed between epochs and floats or `datetime.timedelta`. \n",
    "When using floats days are always assumed."
   ]
  },
  {
   "cell_type": "code",
   "execution_count": null,
   "metadata": {},
   "outputs": [],
   "source": [
    "ep = pk.epoch(0)\n",
    "ep = ep + 21.2353525 # This will be interpreted as days\n",
    "print(ep)"
   ]
  },
  {
   "cell_type": "code",
   "execution_count": null,
   "metadata": {},
   "outputs": [],
   "source": [
    "ep = pk.epoch(0)\n",
    "ep = ep + datetime.timedelta(hours = 5, seconds=54, days=21, minutes=38, microseconds=456000) # This will be interpreted as days\n",
    "print(ep)"
   ]
  },
  {
   "cell_type": "markdown",
   "metadata": {},
   "source": [
    "Some basic comparison operators are also allowed and may turn handy!"
   ]
  },
  {
   "cell_type": "code",
   "execution_count": null,
   "metadata": {},
   "outputs": [],
   "source": [
    "print(ep < ep + 4)\n",
    "print(ep == ep + datetime.timedelta(days=32) - 32)"
   ]
  },
  {
   "cell_type": "code",
   "execution_count": null,
   "metadata": {},
   "outputs": [],
   "source": [
    "from sgp4.api import Satrec\n",
    "from sgp4 import exporter\n",
    "import pykep as pk\n",
    "import numpy as np\n",
    "\n",
    "class tle:\n",
    "    \"\"\"__init__(line1, line2)\n",
    "\n",
    "    This User Defined Planet (UDPLA) represents a satellite orbiting the Earth and defined in the TLE format\n",
    "    and propagated using the SGP4 propagator.\n",
    "\n",
    "    .. note::\n",
    "       The resulting ephemerides will be returned in SI units and in the True Equator Mean Equinox (TEME) reference frame\n",
    "\n",
    "    \"\"\"\n",
    "    def __init__(self, line1, line2):\n",
    "        import pykep as pk\n",
    "        self.satellite = Satrec.twoline2rv(line1, line2)\n",
    "        self.e = 0\n",
    "        self.ref_epoch = pk.epoch(self.satellite.jdsatepoch + self.satellite.jdsatepochF, pk.epoch.julian_type.JD)\n",
    "    def eph(self, ep):\n",
    "        jd = ep.jd\n",
    "        jd_i = int(jd)\n",
    "        jd_fr = jd-jd_i\n",
    "        self.e, r, v = self.satellite.sgp4(jd_i, jd_fr)\n",
    "        return [[it*1000 for it in r], [it*1000 for it in v]]\n",
    "    def eph_v(self, eps):\n",
    "        jds = [ep.jd for ep in eps]\n",
    "        jd_is = [int(item) for item in jds]\n",
    "        jd_frs = [a-b for a,b in zip(jds,jd_is)]\n",
    "        self.e, r, v = self.satellite.sgp4_array(np.array(jd_is), np.array(jd_frs))\n",
    "        rv = np.hstack((r,v))\n",
    "        return rv.flatten() \n",
    "    def get_name(self):\n",
    "        return self.satellite.satnum_str + \" - SGP4\"\n",
    "    def get_extra_info(self):\n",
    "        line1, line2 = exporter.export_tle(self.satellite)\n",
    "        return \"TLE line1: \" + line1 + \"\\nTLE line2: \" + line2 \n",
    "    def get_mu_central_body(self):\n",
    "        return pk.MU_EARTH"
   ]
  },
  {
   "cell_type": "code",
   "execution_count": null,
   "metadata": {},
   "outputs": [],
   "source": [
    "line1 = '1 25544U 98067A   19343.69339541  .00001764  00000-0  38792-4 0  9991'\n",
    "line2 = '2 25544  51.6439 211.2001 0007417  17.6667  85.6398 15.50103472202482'\n",
    "udpla = tle(line1, line2)\n",
    "eps = [pk.epoch(when%1000.2) for when in range(100000)]\n",
    "satellite = Satrec.twoline2rv(line1, line2)\n"
   ]
  },
  {
   "cell_type": "code",
   "execution_count": null,
   "metadata": {},
   "outputs": [],
   "source": [
    "pla = pk.planet(udpla)"
   ]
  },
  {
   "cell_type": "code",
   "execution_count": null,
   "metadata": {},
   "outputs": [],
   "source": [
    "%%time\n",
    "for ep in eps:\n",
    "    udpla.eph(ep)"
   ]
  },
  {
   "cell_type": "code",
   "execution_count": null,
   "metadata": {},
   "outputs": [],
   "source": [
    "%%time\n",
    "for ep in eps:\n",
    "    pla.eph(ep)"
   ]
  },
  {
   "cell_type": "code",
   "execution_count": null,
   "metadata": {},
   "outputs": [],
   "source": [
    "satellite = Satrec.twoline2rv(line1, line2)"
   ]
  },
  {
   "cell_type": "code",
   "execution_count": null,
   "metadata": {},
   "outputs": [],
   "source": [
    "%%timeit\n",
    "pla.eph_v(eps)"
   ]
  },
  {
   "cell_type": "code",
   "execution_count": null,
   "metadata": {},
   "outputs": [],
   "source": []
  },
  {
   "cell_type": "code",
   "execution_count": null,
   "metadata": {},
   "outputs": [],
   "source": [
    "%%timeit\n",
    "for ep in eps:\n",
    "    jd = ep.jd\n",
    "    jd_i = int(jd)\n",
    "    jd_fr = jd-jd_i\n",
    "    e, r, v = satellite.sgp4(jd_i, jd_fr)\n",
    "    [it*1000 for it in r], [it*1000 for it in v]"
   ]
  },
  {
   "cell_type": "code",
   "execution_count": null,
   "metadata": {},
   "outputs": [],
   "source": [
    "%%timeit\n",
    "satellite.sgp4(27000, 0.0)"
   ]
  },
  {
   "cell_type": "code",
   "execution_count": null,
   "metadata": {},
   "outputs": [],
   "source": [
    "jds = [item.jd for item in eps]\n",
    "jd_is = [int(item) for item in jds]\n",
    "jd_frs = [a-b for a,b in zip(jds, jd_is)]\n",
    "e, r, v = satellite.sgp4_array(np.array(jd_is), np.array(jd_frs))\n"
   ]
  },
  {
   "cell_type": "code",
   "execution_count": null,
   "metadata": {},
   "outputs": [],
   "source": [
    "r"
   ]
  },
  {
   "cell_type": "code",
   "execution_count": null,
   "metadata": {},
   "outputs": [],
   "source": [
    "type(r[0])"
   ]
  },
  {
   "cell_type": "code",
   "execution_count": null,
   "metadata": {},
   "outputs": [],
   "source": [
    "np.hstack((r,v))"
   ]
  },
  {
   "cell_type": "code",
   "execution_count": null,
   "metadata": {},
   "outputs": [],
   "source": [
    "r[0]"
   ]
  },
  {
   "cell_type": "code",
   "execution_count": null,
   "metadata": {},
   "outputs": [],
   "source": [
    "v[0]"
   ]
  },
  {
   "cell_type": "code",
   "execution_count": null,
   "metadata": {},
   "outputs": [],
   "source": []
  }
 ],
 "metadata": {
  "kernelspec": {
   "display_name": "kep3_devel",
   "language": "python",
   "name": "python3"
  },
  "language_info": {
   "codemirror_mode": {
    "name": "ipython",
    "version": 3
   },
   "file_extension": ".py",
   "mimetype": "text/x-python",
   "name": "python",
   "nbconvert_exporter": "python",
   "pygments_lexer": "ipython3",
   "version": "3.11.6"
  },
  "orig_nbformat": 4
 },
 "nbformat": 4,
 "nbformat_minor": 2
}
