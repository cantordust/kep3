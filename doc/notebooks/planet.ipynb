{
 "cells": [
  {
   "cell_type": "markdown",
   "metadata": {},
   "source": [
    "# Ephemerides\n",
    "\n",
    "The ephemerides are the position end velocity Cartesian vectors of a moving object. In `pykep` the class {py:class}`~pykep.planet` offers a common interface to access various ephemerides, regardless on how they are computed. Whether the underlying computations are simply Keplerian, or based on more advanced trajectory propagations, interpolations or predictions, a unified interface is offered by this type-erasing class.\n",
    "\n",
    "The user can code his own python class following the mandatory interface of a {py:class}`~pykep.planet` and his own coded objects will be treated uniformly as any other planet in `pykep`. These User Defined Planets (or UPLAs) can implement heterogeneous techniques and interface to any third-party API, once they are used to construct a {py:class}`~pykep.planet`, they will appear as any other moving object in `pykep`.\n",
    "\n",
    "For convenience, a number of already coded UDPLAs are offered so that, to start with, users can compute the positions of planet, satellites comets and spacecarft without the need to code their own UDPLA."
   ]
  },
  {
   "cell_type": "code",
   "execution_count": 2,
   "metadata": {},
   "outputs": [],
   "source": [
    "import pykep as pk"
   ]
  },
  {
   "cell_type": "markdown",
   "metadata": {},
   "source": [
    "Let us start to use the UDPLA {py:class}`~pykep.udpla.keplerian` which describes the motion of an object in a Keplerian orbit. All UDPLAS provided by `pykep` are in the module {py:mod}`~pykep.udpla`"
   ]
  },
  {
   "cell_type": "code",
   "execution_count": 3,
   "metadata": {},
   "outputs": [
    {
     "name": "stdout",
     "output_type": "stream",
     "text": [
      "\u001b[0;31mDocstring:\u001b[0m  keplerian udpla\n",
      "\u001b[0;31mType:\u001b[0m       pybind11_type\n",
      "\u001b[0;31mSubclasses:\u001b[0m "
     ]
    }
   ],
   "source": [
    "udpla = pk.udpla.keplerian?"
   ]
  },
  {
   "cell_type": "code",
   "execution_count": null,
   "metadata": {},
   "outputs": [],
   "source": []
  }
 ],
 "metadata": {
  "kernelspec": {
   "display_name": "kep3_devel",
   "language": "python",
   "name": "python3"
  },
  "language_info": {
   "codemirror_mode": {
    "name": "ipython",
    "version": 3
   },
   "file_extension": ".py",
   "mimetype": "text/x-python",
   "name": "python",
   "nbconvert_exporter": "python",
   "pygments_lexer": "ipython3",
   "version": "3.12.0"
  },
  "orig_nbformat": 4
 },
 "nbformat": 4,
 "nbformat_minor": 2
}
